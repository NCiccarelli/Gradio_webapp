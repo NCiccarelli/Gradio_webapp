{
 "cells": [
  {
   "cell_type": "markdown",
   "id": "c51fdf00",
   "metadata": {},
   "source": [
    "**The dataset used in this notebook comes from KAggle:**\n",
    "    \n",
    "**https://www.kaggle.com/datasets/jiashenliu/515k-hotel-reviews-data-in-europe (see the CSV file \"Hotel_Reviews.csv\")**"
   ]
  },
  {
   "cell_type": "code",
   "execution_count": 2,
   "id": "2252ebc6",
   "metadata": {},
   "outputs": [],
   "source": [
    "import pandas as pd\n",
    "import pickle \n",
    "import time "
   ]
  },
  {
   "cell_type": "code",
   "execution_count": 70,
   "id": "b872f919",
   "metadata": {},
   "outputs": [
    {
     "data": {
      "text/plain": [
       "(515738, 3)"
      ]
     },
     "execution_count": 70,
     "metadata": {},
     "output_type": "execute_result"
    }
   ],
   "source": [
    "data = pd.read_csv('C:/Users/n_cic/PycharmProjects/march_24_streamlit/Hotel_Reviews.csv')\n",
    "data = data[['Negative_Review', 'Positive_Review', 'Reviewer_Score']]\n",
    "data.shape\n",
    "# print(data.head(5))"
   ]
  },
  {
   "cell_type": "markdown",
   "id": "a85b3d16",
   "metadata": {},
   "source": [
    "# create new column Reviewer_Score_Binary"
   ]
  },
  {
   "cell_type": "code",
   "execution_count": 71,
   "id": "43ad729b",
   "metadata": {},
   "outputs": [],
   "source": [
    "data['Reviewer_Score_Binary'] = data['Reviewer_Score'].map(lambda x: 0 if x<6 else 1)"
   ]
  },
  {
   "cell_type": "code",
   "execution_count": 72,
   "id": "61272040",
   "metadata": {},
   "outputs": [
    {
     "data": {
      "text/plain": [
       "1    463231\n",
       "0     52507\n",
       "Name: Reviewer_Score_Binary, dtype: int64"
      ]
     },
     "execution_count": 72,
     "metadata": {},
     "output_type": "execute_result"
    }
   ],
   "source": [
    "data['Reviewer_Score_Binary'].value_counts()"
   ]
  },
  {
   "cell_type": "code",
   "execution_count": 73,
   "id": "b7b67b43",
   "metadata": {},
   "outputs": [
    {
     "data": {
      "text/html": [
       "<div>\n",
       "<style scoped>\n",
       "    .dataframe tbody tr th:only-of-type {\n",
       "        vertical-align: middle;\n",
       "    }\n",
       "\n",
       "    .dataframe tbody tr th {\n",
       "        vertical-align: top;\n",
       "    }\n",
       "\n",
       "    .dataframe thead th {\n",
       "        text-align: right;\n",
       "    }\n",
       "</style>\n",
       "<table border=\"1\" class=\"dataframe\">\n",
       "  <thead>\n",
       "    <tr style=\"text-align: right;\">\n",
       "      <th></th>\n",
       "      <th>Negative_Review</th>\n",
       "      <th>Positive_Review</th>\n",
       "      <th>Reviewer_Score</th>\n",
       "      <th>Reviewer_Score_Binary</th>\n",
       "    </tr>\n",
       "  </thead>\n",
       "  <tbody>\n",
       "    <tr>\n",
       "      <th>101586</th>\n",
       "      <td>LACK OF IN FORMAL EATING AREAS</td>\n",
       "      <td>WELL SET OUT ROOM</td>\n",
       "      <td>7.1</td>\n",
       "      <td>1</td>\n",
       "    </tr>\n",
       "    <tr>\n",
       "      <th>165818</th>\n",
       "      <td>Rooms are very small It would not qualify thi...</td>\n",
       "      <td>Excellent location Walking distance from Conv...</td>\n",
       "      <td>8.3</td>\n",
       "      <td>1</td>\n",
       "    </tr>\n",
       "    <tr>\n",
       "      <th>437308</th>\n",
       "      <td>No Negative</td>\n",
       "      <td>The hole atmosphere was friendly and professi...</td>\n",
       "      <td>10.0</td>\n",
       "      <td>1</td>\n",
       "    </tr>\n",
       "    <tr>\n",
       "      <th>356479</th>\n",
       "      <td>Teas at breakfast on offer in an impressive J...</td>\n",
       "      <td>Friendly helpful and professional staff Most ...</td>\n",
       "      <td>9.6</td>\n",
       "      <td>1</td>\n",
       "    </tr>\n",
       "  </tbody>\n",
       "</table>\n",
       "</div>"
      ],
      "text/plain": [
       "                                          Negative_Review  \\\n",
       "101586                     LACK OF IN FORMAL EATING AREAS   \n",
       "165818   Rooms are very small It would not qualify thi...   \n",
       "437308                                        No Negative   \n",
       "356479   Teas at breakfast on offer in an impressive J...   \n",
       "\n",
       "                                          Positive_Review  Reviewer_Score  \\\n",
       "101586                                  WELL SET OUT ROOM             7.1   \n",
       "165818   Excellent location Walking distance from Conv...             8.3   \n",
       "437308   The hole atmosphere was friendly and professi...            10.0   \n",
       "356479   Friendly helpful and professional staff Most ...             9.6   \n",
       "\n",
       "        Reviewer_Score_Binary  \n",
       "101586                      1  \n",
       "165818                      1  \n",
       "437308                      1  \n",
       "356479                      1  "
      ]
     },
     "execution_count": 73,
     "metadata": {},
     "output_type": "execute_result"
    }
   ],
   "source": [
    "data.sample(4)"
   ]
  },
  {
   "cell_type": "markdown",
   "id": "d793c995",
   "metadata": {},
   "source": [
    "# keep only 50000 rows for negative ratings and 50000 rows for positive  ratings "
   ]
  },
  {
   "cell_type": "code",
   "execution_count": 74,
   "id": "d18083ef",
   "metadata": {},
   "outputs": [],
   "source": [
    "grouped = data.groupby('Reviewer_Score_Binary')\n",
    "data_sampled = grouped.apply(lambda x: x.sample(n=10000, random_state=42)).reset_index(drop=True)\n"
   ]
  },
  {
   "cell_type": "code",
   "execution_count": 75,
   "id": "1fbe9929",
   "metadata": {},
   "outputs": [
    {
     "data": {
      "text/plain": [
       "0    10000\n",
       "1    10000\n",
       "Name: Reviewer_Score_Binary, dtype: int64"
      ]
     },
     "execution_count": 75,
     "metadata": {},
     "output_type": "execute_result"
    }
   ],
   "source": [
    "data_sampled['Reviewer_Score_Binary'].value_counts()"
   ]
  },
  {
   "cell_type": "code",
   "execution_count": 76,
   "id": "dbeb260c",
   "metadata": {},
   "outputs": [],
   "source": [
    "del data "
   ]
  },
  {
   "cell_type": "code",
   "execution_count": 77,
   "id": "85d1e42d",
   "metadata": {},
   "outputs": [],
   "source": [
    "data = data_sampled.copy()"
   ]
  },
  {
   "cell_type": "code",
   "execution_count": 78,
   "id": "d73e1b1d",
   "metadata": {},
   "outputs": [],
   "source": [
    "del data_sampled "
   ]
  },
  {
   "cell_type": "markdown",
   "id": "942aeb7a",
   "metadata": {},
   "source": [
    "# join the negative and positive reviews in a single column: "
   ]
  },
  {
   "cell_type": "code",
   "execution_count": 79,
   "id": "a482bb46",
   "metadata": {},
   "outputs": [],
   "source": [
    "def join_reviews(neg, pos):\n",
    "    return neg + ' ' + pos \n",
    "\n",
    "data['joined_review'] = data.apply(lambda row: join_reviews(row['Negative_Review'], row['Positive_Review']), axis=1)"
   ]
  },
  {
   "cell_type": "code",
   "execution_count": 80,
   "id": "da65d9eb",
   "metadata": {
    "scrolled": false
   },
   "outputs": [
    {
     "data": {
      "text/html": [
       "<div>\n",
       "<style scoped>\n",
       "    .dataframe tbody tr th:only-of-type {\n",
       "        vertical-align: middle;\n",
       "    }\n",
       "\n",
       "    .dataframe tbody tr th {\n",
       "        vertical-align: top;\n",
       "    }\n",
       "\n",
       "    .dataframe thead th {\n",
       "        text-align: right;\n",
       "    }\n",
       "</style>\n",
       "<table border=\"1\" class=\"dataframe\">\n",
       "  <thead>\n",
       "    <tr style=\"text-align: right;\">\n",
       "      <th></th>\n",
       "      <th>Negative_Review</th>\n",
       "      <th>Positive_Review</th>\n",
       "      <th>Reviewer_Score</th>\n",
       "      <th>Reviewer_Score_Binary</th>\n",
       "      <th>joined_review</th>\n",
       "    </tr>\n",
       "  </thead>\n",
       "  <tbody>\n",
       "    <tr>\n",
       "      <th>0</th>\n",
       "      <td>I left a shirt in the room and they never ret...</td>\n",
       "      <td>hotel was nice</td>\n",
       "      <td>5.8</td>\n",
       "      <td>0</td>\n",
       "      <td>I left a shirt in the room and they never ret...</td>\n",
       "    </tr>\n",
       "    <tr>\n",
       "      <th>1</th>\n",
       "      <td>It was not stated when booking on the Non Ref...</td>\n",
       "      <td>The Hotel reception were extreamely helpful f...</td>\n",
       "      <td>5.0</td>\n",
       "      <td>0</td>\n",
       "      <td>It was not stated when booking on the Non Ref...</td>\n",
       "    </tr>\n",
       "    <tr>\n",
       "      <th>2</th>\n",
       "      <td>Our junior suite was exceptionally tired A ch...</td>\n",
       "      <td>Location fair althiugh changes in local traff...</td>\n",
       "      <td>2.9</td>\n",
       "      <td>0</td>\n",
       "      <td>Our junior suite was exceptionally tired A ch...</td>\n",
       "    </tr>\n",
       "    <tr>\n",
       "      <th>3</th>\n",
       "      <td>you have to pay 8pounds to use that gym swimm...</td>\n",
       "      <td>Location</td>\n",
       "      <td>5.8</td>\n",
       "      <td>0</td>\n",
       "      <td>you have to pay 8pounds to use that gym swimm...</td>\n",
       "    </tr>\n",
       "    <tr>\n",
       "      <th>4</th>\n",
       "      <td>Our room was not available when we arrived to...</td>\n",
       "      <td>Good location for our evening at the Albert H...</td>\n",
       "      <td>5.4</td>\n",
       "      <td>0</td>\n",
       "      <td>Our room was not available when we arrived to...</td>\n",
       "    </tr>\n",
       "    <tr>\n",
       "      <th>...</th>\n",
       "      <td>...</td>\n",
       "      <td>...</td>\n",
       "      <td>...</td>\n",
       "      <td>...</td>\n",
       "      <td>...</td>\n",
       "    </tr>\n",
       "    <tr>\n",
       "      <th>19995</th>\n",
       "      <td>Valet parking quite expensive but central Lon...</td>\n",
       "      <td>Amazing hotel sets the standard</td>\n",
       "      <td>10.0</td>\n",
       "      <td>1</td>\n",
       "      <td>Valet parking quite expensive but central Lon...</td>\n",
       "    </tr>\n",
       "    <tr>\n",
       "      <th>19996</th>\n",
       "      <td>rooms very small</td>\n",
       "      <td>No Positive</td>\n",
       "      <td>7.1</td>\n",
       "      <td>1</td>\n",
       "      <td>rooms very small No Positive</td>\n",
       "    </tr>\n",
       "    <tr>\n",
       "      <th>19997</th>\n",
       "      <td>Have to pay 16 per day for the car park</td>\n",
       "      <td>I will definitely stay here again the next ti...</td>\n",
       "      <td>9.6</td>\n",
       "      <td>1</td>\n",
       "      <td>Have to pay 16 per day for the car park   I w...</td>\n",
       "    </tr>\n",
       "    <tr>\n",
       "      <th>19998</th>\n",
       "      <td>Shower head was too small by today standards ...</td>\n",
       "      <td>Discounted 50 Shower was nice except the show...</td>\n",
       "      <td>8.3</td>\n",
       "      <td>1</td>\n",
       "      <td>Shower head was too small by today standards ...</td>\n",
       "    </tr>\n",
       "    <tr>\n",
       "      <th>19999</th>\n",
       "      <td>A roof terrace or swimming Pool would have be...</td>\n",
       "      <td>Very nice and helpfull staff The bed bathroom...</td>\n",
       "      <td>7.9</td>\n",
       "      <td>1</td>\n",
       "      <td>A roof terrace or swimming Pool would have be...</td>\n",
       "    </tr>\n",
       "  </tbody>\n",
       "</table>\n",
       "<p>20000 rows × 5 columns</p>\n",
       "</div>"
      ],
      "text/plain": [
       "                                         Negative_Review  \\\n",
       "0       I left a shirt in the room and they never ret...   \n",
       "1       It was not stated when booking on the Non Ref...   \n",
       "2       Our junior suite was exceptionally tired A ch...   \n",
       "3       you have to pay 8pounds to use that gym swimm...   \n",
       "4       Our room was not available when we arrived to...   \n",
       "...                                                  ...   \n",
       "19995   Valet parking quite expensive but central Lon...   \n",
       "19996                                   rooms very small   \n",
       "19997           Have to pay 16 per day for the car park    \n",
       "19998   Shower head was too small by today standards ...   \n",
       "19999   A roof terrace or swimming Pool would have be...   \n",
       "\n",
       "                                         Positive_Review  Reviewer_Score  \\\n",
       "0                                         hotel was nice             5.8   \n",
       "1       The Hotel reception were extreamely helpful f...             5.0   \n",
       "2       Location fair althiugh changes in local traff...             2.9   \n",
       "3                                               Location             5.8   \n",
       "4       Good location for our evening at the Albert H...             5.4   \n",
       "...                                                  ...             ...   \n",
       "19995                   Amazing hotel sets the standard             10.0   \n",
       "19996                                        No Positive             7.1   \n",
       "19997   I will definitely stay here again the next ti...             9.6   \n",
       "19998   Discounted 50 Shower was nice except the show...             8.3   \n",
       "19999   Very nice and helpfull staff The bed bathroom...             7.9   \n",
       "\n",
       "       Reviewer_Score_Binary  \\\n",
       "0                          0   \n",
       "1                          0   \n",
       "2                          0   \n",
       "3                          0   \n",
       "4                          0   \n",
       "...                      ...   \n",
       "19995                      1   \n",
       "19996                      1   \n",
       "19997                      1   \n",
       "19998                      1   \n",
       "19999                      1   \n",
       "\n",
       "                                           joined_review  \n",
       "0       I left a shirt in the room and they never ret...  \n",
       "1       It was not stated when booking on the Non Ref...  \n",
       "2       Our junior suite was exceptionally tired A ch...  \n",
       "3       you have to pay 8pounds to use that gym swimm...  \n",
       "4       Our room was not available when we arrived to...  \n",
       "...                                                  ...  \n",
       "19995   Valet parking quite expensive but central Lon...  \n",
       "19996                       rooms very small No Positive  \n",
       "19997   Have to pay 16 per day for the car park   I w...  \n",
       "19998   Shower head was too small by today standards ...  \n",
       "19999   A roof terrace or swimming Pool would have be...  \n",
       "\n",
       "[20000 rows x 5 columns]"
      ]
     },
     "execution_count": 80,
     "metadata": {},
     "output_type": "execute_result"
    }
   ],
   "source": [
    "data"
   ]
  },
  {
   "cell_type": "markdown",
   "id": "8016ba4b",
   "metadata": {},
   "source": [
    "# training of the model based onTfidfVectorizer: "
   ]
  },
  {
   "cell_type": "code",
   "execution_count": 81,
   "id": "922e3c4e",
   "metadata": {},
   "outputs": [
    {
     "name": "stdout",
     "output_type": "stream",
     "text": [
      "72.71767687797546\n",
      "Accuracy: 0.814\n"
     ]
    }
   ],
   "source": [
    "import pandas as pd\n",
    "from sklearn.feature_extraction.text import TfidfVectorizer\n",
    "from sklearn.model_selection import train_test_split\n",
    "from xgboost import XGBClassifier\n",
    "import time\n",
    "\n",
    "start_time = time.time()\n",
    "\n",
    "# Create a TF-IDF vectorizer for the positive reviews\n",
    "vectorizer = TfidfVectorizer(max_features=5000, token_pattern=r'\\b\\w+\\b')\n",
    "\n",
    "# Fit the vectorizer on the positive review column\n",
    "X = vectorizer.fit_transform(data['joined_review'])\n",
    "\n",
    "# Add prefix to the feature names of the positive reviews\n",
    "feature_names = ['pos_' + f for f in vectorizer.get_feature_names_out()]\n",
    "\n",
    "# Convert the sparse matrix to a dataframe with unique feature names\n",
    "X = pd.DataFrame(X.toarray(), columns=feature_names)\n",
    "\n",
    "# Split the data into training and test sets\n",
    "X_train, X_test, y_train, y_test = train_test_split(X, data['Reviewer_Score_Binary'], test_size=0.2, random_state=42)\n",
    "\n",
    "# Fit an XGBoost classifier on the training data\n",
    "model = XGBClassifier()\n",
    "model.fit(X_train, y_train)\n",
    "\n",
    "# Predict on the test set\n",
    "y_pred = model.predict(X_test)\n",
    "\n",
    "end_time = time.time()\n",
    "print(end_time-start_time)\n",
    "\n",
    "from sklearn.metrics import accuracy_score\n",
    "\n",
    "accuracy = accuracy_score(y_test, y_pred)\n",
    "print(\"Accuracy:\", accuracy)"
   ]
  },
  {
   "cell_type": "markdown",
   "id": "7610097c",
   "metadata": {},
   "source": [
    "# store the xgboost model:"
   ]
  },
  {
   "cell_type": "code",
   "execution_count": 82,
   "id": "f6b4f046",
   "metadata": {},
   "outputs": [],
   "source": [
    "with open('xgboost_model.pkl' , 'wb') as f:\n",
    "    pickle.dump(model, f)"
   ]
  },
  {
   "cell_type": "markdown",
   "id": "a271788b",
   "metadata": {},
   "source": [
    "# store the vectorizer: "
   ]
  },
  {
   "cell_type": "code",
   "execution_count": 87,
   "id": "66cf62e9",
   "metadata": {},
   "outputs": [],
   "source": [
    "with open('vectorizer.pkl' , 'wb') as f:\n",
    "    pickle.dump(vectorizer, f)"
   ]
  },
  {
   "cell_type": "markdown",
   "id": "cdff261e",
   "metadata": {},
   "source": [
    "# store the feature_names: "
   ]
  },
  {
   "cell_type": "code",
   "execution_count": 88,
   "id": "f5ebcb3e",
   "metadata": {},
   "outputs": [],
   "source": [
    "with open('feature_names.pkl' , 'wb') as f:\n",
    "    pickle.dump(feature_names, f)"
   ]
  },
  {
   "cell_type": "markdown",
   "id": "a4264727",
   "metadata": {},
   "source": [
    "# predict a new review: "
   ]
  },
  {
   "cell_type": "code",
   "execution_count": 3,
   "id": "fd9c197d",
   "metadata": {},
   "outputs": [],
   "source": [
    "with open('xgboost_model.pkl' , 'rb') as f_new:\n",
    "    reloaded_model = pickle.load(f_new)"
   ]
  },
  {
   "cell_type": "code",
   "execution_count": 4,
   "id": "e0904d01",
   "metadata": {},
   "outputs": [],
   "source": [
    "with open('vectorizer.pkl' , 'rb') as f_new:\n",
    "    vectorizer = pickle.load(f_new)"
   ]
  },
  {
   "cell_type": "code",
   "execution_count": 5,
   "id": "05d1a64b",
   "metadata": {},
   "outputs": [],
   "source": [
    "with open('feature_names.pkl' , 'rb') as f_new:\n",
    "    feature_names = pickle.load(f_new)"
   ]
  },
  {
   "cell_type": "code",
   "execution_count": 6,
   "id": "dbb0b917",
   "metadata": {},
   "outputs": [
    {
     "name": "stdout",
     "output_type": "stream",
     "text": [
      "Binary score of the new review: 1\n"
     ]
    }
   ],
   "source": [
    "# Preprocess the new review and tokenize it\n",
    "new_review = \"This hotel is great! The staff is friendly and the room is spacious.\"\n",
    "# preprocessed_review = preprocess_text(new_review)\n",
    "\n",
    "# Transform the preprocessed review into a feature vector\n",
    "new_review_vector = vectorizer.transform([new_review])\n",
    "\n",
    "# Create a new dataframe with the feature vector\n",
    "new_review_df = pd.DataFrame(new_review_vector.toarray(), columns=feature_names)\n",
    "\n",
    "# Predict the binary score of the new review\n",
    "new_review_score = reloaded_model.predict(new_review_df)[0]\n",
    "\n",
    "print(\"Binary score of the new review:\", new_review_score)"
   ]
  },
  {
   "cell_type": "markdown",
   "id": "0f4099e7",
   "metadata": {},
   "source": [
    "negative review:"
   ]
  },
  {
   "cell_type": "code",
   "execution_count": 7,
   "id": "22f52d7f",
   "metadata": {},
   "outputs": [
    {
     "name": "stdout",
     "output_type": "stream",
     "text": [
      "Binary score of the new review: 0\n"
     ]
    }
   ],
   "source": [
    "# Preprocess the new review and tokenize it\n",
    "new_review = \"This hotel is aweful. The staff is unfriendly and the room is tiny.\"\n",
    "# preprocessed_review = preprocess_text(new_review)\n",
    "\n",
    "# Transform the preprocessed review into a feature vector\n",
    "new_review_vector = vectorizer.transform([new_review])\n",
    "\n",
    "# Create a new dataframe with the feature vector\n",
    "new_review_df = pd.DataFrame(new_review_vector.toarray(), columns=feature_names)\n",
    "\n",
    "# Predict the binary score of the new review\n",
    "new_review_score = reloaded_model.predict(new_review_df)[0]\n",
    "\n",
    "print(\"Binary score of the new review:\", new_review_score)"
   ]
  }
 ],
 "metadata": {
  "kernelspec": {
   "display_name": "Python 3 (ipykernel)",
   "language": "python",
   "name": "python3"
  },
  "language_info": {
   "codemirror_mode": {
    "name": "ipython",
    "version": 3
   },
   "file_extension": ".py",
   "mimetype": "text/x-python",
   "name": "python",
   "nbconvert_exporter": "python",
   "pygments_lexer": "ipython3",
   "version": "3.9.16"
  }
 },
 "nbformat": 4,
 "nbformat_minor": 5
}
